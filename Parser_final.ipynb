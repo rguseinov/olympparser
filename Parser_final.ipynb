{
 "cells": [
  {
   "cell_type": "code",
   "execution_count": null,
   "id": "b5cd0e39",
   "metadata": {},
   "outputs": [],
   "source": [
    "#pip install beautifulsoup4\n",
    "#pip install lxml\n",
    "#pip install urllib2"
   ]
  },
  {
   "cell_type": "code",
   "execution_count": 24,
   "id": "ebae470c",
   "metadata": {},
   "outputs": [],
   "source": [
    "from urllib.request import Request, urlopen\n",
    "import re\n",
    "\n",
    "import json\n",
    "import csv\n",
    "from time import sleep\n",
    "import os\n",
    "\n",
    "import requests\n",
    "from requests.adapters import HTTPAdapter\n",
    "from urllib3.util.retry import Retry"
   ]
  },
  {
   "cell_type": "code",
   "execution_count": 4,
   "id": "4903c410",
   "metadata": {},
   "outputs": [],
   "source": [
    "try: \n",
    "    from BeautifulSoup import BeautifulSoup\n",
    "except ImportError:\n",
    "    from bs4 import BeautifulSoup"
   ]
  },
  {
   "cell_type": "code",
   "execution_count": 29,
   "id": "4956b9af",
   "metadata": {},
   "outputs": [],
   "source": [
    "os.makedirs('olymplom') #создаем папку\n",
    "os.makedirs(\"olymplom\\zakl\") #создаем папку отдельно для отборочного\n",
    "os.makedirs(\"olymplom\\otbor\") #создаем папку отдельно для заключительного"
   ]
  },
  {
   "cell_type": "code",
   "execution_count": 7,
   "id": "21feebcb",
   "metadata": {},
   "outputs": [],
   "source": [
    "def get_lom_data_otbor(u):\n",
    "    \n",
    "    session = requests.Session()\n",
    "    retry = Retry(connect=3, backoff_factor=0.5)\n",
    "    adapter = HTTPAdapter(max_retries=retry)\n",
    "    session.mount('http://', adapter)\n",
    "    session.mount('https://', adapter)\n",
    "    \n",
    "    \n",
    "    headers = {\n",
    "    \"Accept\": \"*/*\",\n",
    "    \"User-Agent\": \"Mozilla/5.0 (iPad; CPU OS 11_0 like Mac OS X) AppleWebKit/604.1.34 (KHTML, like Gecko) Version/11.0 Mobile/15A5341f Safari/604.1\"\n",
    "} #обходим блок парсера со сторон сайта\n",
    "    \n",
    "    req = session.get(u, headers = headers)\n",
    "    src = req.text\n",
    "    soup = BeautifulSoup(src,'lxml')\n",
    "    \n",
    "    table_head = soup.find(class_=\"table\").find(\"tr\").find_all('th')\n",
    "    name = table_head[0].text\n",
    "    point = table_head[1].text\n",
    "    status = table_head[2].text\n",
    "    \n",
    "    lom_data = soup.find(class_=\"table\").find('tbody').find_all('tr')\n",
    "    return name, point, status, lom_data #парсим номер заявки участника, его итоговый балл и статус\n",
    "\n",
    "def get_lom_data_zakl(u):\n",
    "    session = requests.Session()\n",
    "    retry = Retry(connect=3, backoff_factor=0.5)\n",
    "    adapter = HTTPAdapter(max_retries=retry)\n",
    "    session.mount('http://', adapter)\n",
    "    session.mount('https://', adapter)\n",
    "    \n",
    "    \n",
    "    headers = {\n",
    "    \"Accept\": \"*/*\",\n",
    "    \"User-Agent\": \"Mozilla/5.0 (iPad; CPU OS 11_0 like Mac OS X) AppleWebKit/604.1.34 (KHTML, like Gecko) Version/11.0 Mobile/15A5341f Safari/604.1\"\n",
    "} #обходим блок парсера со стороны сайта\n",
    "    \n",
    "    req = session.get(u, headers = headers)\n",
    "    src = req.text\n",
    "    soup = BeautifulSoup(src,'lxml')\n",
    "    \n",
    "    table_head = soup.find(class_=\"table\").find('tr').find_all('td')\n",
    "    name = table_head[0].text\n",
    "    point = table_head[1].text\n",
    "    lom_data = soup.find(class_=\"table\").find('tbody').find_all('tr')\n",
    "    return name, point, lom_data #парсим имя участника, его итоговый балл и статус\n",
    "\n",
    "def assign(item):\n",
    "    product_tds = item.find_all('td')\n",
    "    name1 = product_tds[0].text\n",
    "    point1 = product_tds[1].text\n",
    "    status1 = product_tds[2].text\n",
    "    \n",
    "    return product_tds, name1, point1, status1\n",
    "\n",
    "def assignzakl(item):\n",
    "    product_tds = item.find_all('td')\n",
    "    name1 = product_tds[0].text\n",
    "    point1 = product_tds[1].text\n",
    "    \n",
    "    return product_tds, name1, point1 #присвоение имени, балла и статуса каждому участнику (создаем объекты и присваиваем признаки)"
   ]
  },
  {
   "cell_type": "code",
   "execution_count": 5,
   "id": "91419ef4",
   "metadata": {},
   "outputs": [],
   "source": [
    "dictionary = {\n",
    "    'Биология': [1, 1],\n",
    "    'Генетика': [2,2],\n",
    "    'География': [3,3],\n",
    "    'Геология': [4,4],\n",
    "    'Журналистика': [5,5],\n",
    "    'Инженерные науки': [6,6],\n",
    "    'Английский язык': [7,7],\n",
    "    'Немецкий язык': [8,8],\n",
    "    'Французский язык': [9,9],\n",
    "    'Информатика': [10,10],\n",
    "    'История': [11,11],\n",
    "    'История российской государственности': [12,12],\n",
    "    'Космонавтика': [13,13],\n",
    "    'Литература': [14,14],\n",
    "    'Математика': [15,15],\n",
    "    'Международные отношения и глобалистика': [16, -13],\n",
    "    'Механика и математическое моделирование': [17, -12],\n",
    "    'Обществознание': [18, -11],\n",
    "    'Политология': [19, -10],\n",
    "    'Право': [20, -9],\n",
    "    'Предпринимательство': [21, -8],\n",
    "    'Психология': [22, -7],\n",
    "    'Религиоведение': [23, -6],\n",
    "    'Робототехника': [24, -5],\n",
    "    'Русский язык': [25, -4],\n",
    "    'Физика': [26, -3],\n",
    "    'Философия': [27, -2],\n",
    "    'Химия': [28 ,-1],\n",
    "    'Экология': [29, 0]\n",
    "}\n",
    " #у каждого предмета свой номер страницы, создаем словарь, из которого будет вытягивать уникальный номер и создавать URL по нему"
   ]
  },
  {
   "cell_type": "code",
   "execution_count": 8,
   "id": "ea441aa2",
   "metadata": {},
   "outputs": [
    {
     "name": "stdout",
     "output_type": "stream",
     "text": [
      "Какие предметы вам нужны? биология\n",
      "Какой этап олимпиады вам нужен? отборочный\n"
     ]
    }
   ],
   "source": [
    "#Парсер\n",
    "urlsotbor = []\n",
    "urlszakl = []\n",
    "\n",
    "subj = list(map(str, input('Какие предметы вам нужны? ').split(', ')))\n",
    "subj = [i.title() for i in subj]\n",
    "ind = [dictionary[i] for i in subj]\n",
    "question = input('Какой этап олимпиады вам нужен? ')\n",
    "\n",
    "if question.title() == 'Отборочный':\n",
    "    for i in ind:\n",
    "        urlsotbor.append(f'https://olymp.msu.ru/rus/event/{7700 + i[0]}/page/{3150 + i[1]}') #создаем URL по присвоению уникального номера\n",
    "    for u in urlsotbor:\n",
    "        name, point, status, lom_data = get_lom_data_otbor(u) #забираем данные по функции\n",
    "        for name in subj:\n",
    "            with open(f'olymplom/otbor/lom_otbor_{name}.csv', 'w', encoding = 'utf-8') as file:\n",
    "                    writer = csv.writer(file)\n",
    "                    writer.writerow((\n",
    "                    name, \n",
    "                    point,\n",
    "                    status)) #создаем таблицу со столбцами \"имя, балл, статус\"\n",
    "            for item in lom_data:\n",
    "                product_tds, name1, point1, status1 = assign(item)\n",
    "                with open(f'olymplom/otbor/lom_otbor_{name}.csv', 'a', encoding = 'utf-8') as file:\n",
    "                    writer = csv.writer(file)\n",
    "                    writer.writerow((\n",
    "                    name1, \n",
    "                    point1,\n",
    "                    status1))\n",
    "\n",
    "elif question.title() == 'Заключительный':\n",
    "    for i in ind:\n",
    "        urlszakl.append(f'https://olymp.msu.ru/rus/event/{7700 + i[0]}/page/{3281 + i[0]}') #создаем URL по присвоению уникального номера\n",
    "    for u in urlszakl:\n",
    "        name, point, lom_data = get_lom_data_zakl(u)\n",
    "        for name in subj:\n",
    "            with open(f'olymplom/zakl/lom_zakl_{name}.csv', 'w', encoding = 'utf-8') as file:\n",
    "                    writer = csv.writer(file)\n",
    "                    writer.writerow((\n",
    "                    name, \n",
    "                    point))\n",
    "    #                 status))\n",
    "            for item in lom_data:\n",
    "                product_tds, name1, point1 = assignzakl(item)\n",
    "                with open(f'olymplom/zakl/lom_zakl_{name}.csv', 'a', encoding = 'utf-8') as file:\n",
    "                    writer = csv.writer(file)\n",
    "                    writer.writerow((\n",
    "                    name1, \n",
    "                    point1))\n",
    "    #                 status1)) #все аналогично"
   ]
  },
  {
   "cell_type": "markdown",
   "id": "53c48d76",
   "metadata": {},
   "source": [
    "Теперь с помощью библиотеки pandas откроем наши csv-таблицы. Посмотрим на распределение баллов по данному предмету на отборочном и заключительном этапе. Далее мы объединим таблицы по номеру заявки и посмотрим, как взаимосвязан результат ученика на отборочном и заключительном этапе (если он на заключительный этап прошел, для этого используем merge)"
   ]
  },
  {
   "cell_type": "code",
   "execution_count": 9,
   "id": "7a4e1804",
   "metadata": {},
   "outputs": [],
   "source": [
    "import pandas as pd\n",
    "import matplotlib.pyplot as plt"
   ]
  },
  {
   "cell_type": "code",
   "execution_count": 10,
   "id": "be78a81a",
   "metadata": {},
   "outputs": [],
   "source": [
    "dfotbor = pd.read_csv('olymplom\\otbor\\lom_otbor_Биология.csv')"
   ]
  },
  {
   "cell_type": "code",
   "execution_count": 11,
   "id": "c64c2789",
   "metadata": {},
   "outputs": [],
   "source": [
    "dfzakl = pd.read_csv('olymplom\\zakl\\lom_zakl_Биология.csv')"
   ]
  },
  {
   "cell_type": "code",
   "execution_count": 12,
   "id": "2b0c3142",
   "metadata": {},
   "outputs": [],
   "source": [
    "dfzakl = dfzakl.iloc[1:]\n",
    "dfzakl['Балл'] = dfzakl['Балл'].astype(int)"
   ]
  },
  {
   "cell_type": "code",
   "execution_count": 13,
   "id": "01d27850",
   "metadata": {},
   "outputs": [
    {
     "data": {
      "text/html": [
       "<div>\n",
       "<style scoped>\n",
       "    .dataframe tbody tr th:only-of-type {\n",
       "        vertical-align: middle;\n",
       "    }\n",
       "\n",
       "    .dataframe tbody tr th {\n",
       "        vertical-align: top;\n",
       "    }\n",
       "\n",
       "    .dataframe thead th {\n",
       "        text-align: right;\n",
       "    }\n",
       "</style>\n",
       "<table border=\"1\" class=\"dataframe\">\n",
       "  <thead>\n",
       "    <tr style=\"text-align: right;\">\n",
       "      <th></th>\n",
       "      <th>Биология</th>\n",
       "      <th>Балл_x</th>\n",
       "      <th>Статус</th>\n",
       "      <th>Балл_y</th>\n",
       "    </tr>\n",
       "  </thead>\n",
       "  <tbody>\n",
       "    <tr>\n",
       "      <th>0</th>\n",
       "      <td>№ 1018488</td>\n",
       "      <td>81.223</td>\n",
       "      <td>Победитель</td>\n",
       "      <td>67</td>\n",
       "    </tr>\n",
       "    <tr>\n",
       "      <th>1</th>\n",
       "      <td>№ 1018743</td>\n",
       "      <td>82.223</td>\n",
       "      <td>Победитель</td>\n",
       "      <td>59</td>\n",
       "    </tr>\n",
       "    <tr>\n",
       "      <th>2</th>\n",
       "      <td>№ 1019409</td>\n",
       "      <td>82.223</td>\n",
       "      <td>Победитель</td>\n",
       "      <td>43</td>\n",
       "    </tr>\n",
       "    <tr>\n",
       "      <th>3</th>\n",
       "      <td>№ 1020194</td>\n",
       "      <td>81.023</td>\n",
       "      <td>Победитель</td>\n",
       "      <td>55</td>\n",
       "    </tr>\n",
       "    <tr>\n",
       "      <th>4</th>\n",
       "      <td>№ 1035121</td>\n",
       "      <td>83.297</td>\n",
       "      <td>Победитель</td>\n",
       "      <td>97</td>\n",
       "    </tr>\n",
       "  </tbody>\n",
       "</table>\n",
       "</div>"
      ],
      "text/plain": [
       "    Биология  Балл_x      Статус  Балл_y\n",
       "0  № 1018488  81.223  Победитель      67\n",
       "1  № 1018743  82.223  Победитель      59\n",
       "2  № 1019409  82.223  Победитель      43\n",
       "3  № 1020194  81.023  Победитель      55\n",
       "4  № 1035121  83.297  Победитель      97"
      ]
     },
     "execution_count": 13,
     "metadata": {},
     "output_type": "execute_result"
    }
   ],
   "source": [
    "result = pd.merge(dfotbor, dfzakl, on=\"Биология\")\n",
    "result.head()"
   ]
  },
  {
   "cell_type": "code",
   "execution_count": 14,
   "id": "8fe57740",
   "metadata": {
    "scrolled": true
   },
   "outputs": [
    {
     "data": {
      "text/html": [
       "<div>\n",
       "<style scoped>\n",
       "    .dataframe tbody tr th:only-of-type {\n",
       "        vertical-align: middle;\n",
       "    }\n",
       "\n",
       "    .dataframe tbody tr th {\n",
       "        vertical-align: top;\n",
       "    }\n",
       "\n",
       "    .dataframe thead th {\n",
       "        text-align: right;\n",
       "    }\n",
       "</style>\n",
       "<table border=\"1\" class=\"dataframe\">\n",
       "  <thead>\n",
       "    <tr style=\"text-align: right;\">\n",
       "      <th></th>\n",
       "      <th>Биология</th>\n",
       "      <th>Балл_x</th>\n",
       "      <th>Статус</th>\n",
       "      <th>Балл_y</th>\n",
       "    </tr>\n",
       "  </thead>\n",
       "  <tbody>\n",
       "    <tr>\n",
       "      <th>0</th>\n",
       "      <td>№ 1018488</td>\n",
       "      <td>81</td>\n",
       "      <td>Победитель</td>\n",
       "      <td>67</td>\n",
       "    </tr>\n",
       "    <tr>\n",
       "      <th>1</th>\n",
       "      <td>№ 1018743</td>\n",
       "      <td>82</td>\n",
       "      <td>Победитель</td>\n",
       "      <td>59</td>\n",
       "    </tr>\n",
       "    <tr>\n",
       "      <th>2</th>\n",
       "      <td>№ 1019409</td>\n",
       "      <td>82</td>\n",
       "      <td>Победитель</td>\n",
       "      <td>43</td>\n",
       "    </tr>\n",
       "    <tr>\n",
       "      <th>3</th>\n",
       "      <td>№ 1020194</td>\n",
       "      <td>81</td>\n",
       "      <td>Победитель</td>\n",
       "      <td>55</td>\n",
       "    </tr>\n",
       "    <tr>\n",
       "      <th>4</th>\n",
       "      <td>№ 1035121</td>\n",
       "      <td>83</td>\n",
       "      <td>Победитель</td>\n",
       "      <td>97</td>\n",
       "    </tr>\n",
       "  </tbody>\n",
       "</table>\n",
       "</div>"
      ],
      "text/plain": [
       "    Биология  Балл_x      Статус  Балл_y\n",
       "0  № 1018488      81  Победитель      67\n",
       "1  № 1018743      82  Победитель      59\n",
       "2  № 1019409      82  Победитель      43\n",
       "3  № 1020194      81  Победитель      55\n",
       "4  № 1035121      83  Победитель      97"
      ]
     },
     "execution_count": 14,
     "metadata": {},
     "output_type": "execute_result"
    }
   ],
   "source": [
    "result[\"Балл_x\"] = result[\"Балл_x\"].apply(lambda x: int(x))\n",
    "result[\"Балл_y\"] = result[\"Балл_y\"].apply(lambda x: int(x))\n",
    "result.head()"
   ]
  },
  {
   "cell_type": "code",
   "execution_count": 15,
   "id": "6602632d",
   "metadata": {},
   "outputs": [
    {
     "data": {
      "image/png": "[encoded data removed]",
      "text/plain": [
       "<Figure size 432x288 with 1 Axes>"
      ]
     },
     "metadata": {
      "needs_background": "light"
     },
     "output_type": "display_data"
    }
   ],
   "source": [
    "plt.hist(dfotbor['Балл'], color='c')\n",
    "plt.title('Распределение баллов на отборочном этапе олимпиады Ломоносов, Биология')\n",
    "plt.xlabel('Балл')\n",
    "plt.ylabel('Количество')\n",
    "plt.grid()\n",
    "plt.show()"
   ]
  },
  {
   "cell_type": "code",
   "execution_count": 16,
   "id": "f2ffa2fd",
   "metadata": {},
   "outputs": [
    {
     "data": {
      "image/png": "[encoded data removed]",
      "text/plain": [
       "<Figure size 432x288 with 1 Axes>"
      ]
     },
     "metadata": {
      "needs_background": "light"
     },
     "output_type": "display_data"
    }
   ],
   "source": [
    "plt.hist(dfzakl['Балл'], color = 'y')\n",
    "plt.title('Распределение баллов на заключительном этапе олимпиады Ломоносов, Биология')\n",
    "plt.xlabel('Балл')\n",
    "plt.ylabel('Количество')\n",
    "plt.grid()\n",
    "plt.show()"
   ]
  },
  {
   "cell_type": "code",
   "execution_count": 17,
   "id": "be771430",
   "metadata": {},
   "outputs": [
    {
     "name": "stderr",
     "output_type": "stream",
     "text": [
      "<frozen importlib._bootstrap>:228: RuntimeWarning: scipy._lib.messagestream.MessageStream size changed, may indicate binary incompatibility. Expected 56 from C header, got 64 from PyObject\n"
     ]
    },
    {
     "data": {
      "image/png": "[encoded data removed]",
      "text/plain": [
       "<Figure size 432x288 with 1 Axes>"
      ]
     },
     "metadata": {
      "needs_background": "light"
     },
     "output_type": "display_data"
    }
   ],
   "source": [
    "import seaborn as sns\n",
    "sns.histplot(dfzakl['Балл'], color = 'y')\n",
    "sns.histplot(dfotbor['Балл'], color = 'c')\n",
    "plt.xlabel('Балл')\n",
    "plt.ylabel('Количество')\n",
    "plt.grid()\n",
    "plt.show()"
   ]
  },
  {
   "cell_type": "code",
   "execution_count": 18,
   "id": "96d6ffc6",
   "metadata": {},
   "outputs": [
    {
     "data": {
      "image/png": "[encoded data removed]",
      "text/plain": [
       "<Figure size 432x288 with 1 Axes>"
      ]
     },
     "metadata": {
      "needs_background": "light"
     },
     "output_type": "display_data"
    }
   ],
   "source": [
    "plt.hist(dfotbor['Статус'], color = 'c')\n",
    "plt.title('Распределение статусов на отборочном этапе олимпиады Ломоносов, Биология')\n",
    "plt.grid()\n",
    "plt.show()"
   ]
  },
  {
   "cell_type": "code",
   "execution_count": 19,
   "id": "4ea5d306",
   "metadata": {
    "scrolled": false
   },
   "outputs": [
    {
     "data": {
      "image/png": "[encoded data removed]",
      "text/plain": [
       "<Figure size 432x288 with 1 Axes>"
      ]
     },
     "metadata": {
      "needs_background": "light"
     },
     "output_type": "display_data"
    }
   ],
   "source": [
    "plt.scatter(result['Балл_y'], result['Балл_x'], color = 'indigo')\n",
    "plt.title('Взаимосвязь результата на отборочном и заключительном этапе олимпиады Ломоносов')\n",
    "plt.grid()\n",
    "plt.show()"
   ]
  },
  {
   "cell_type": "code",
   "execution_count": 20,
   "id": "463759e0",
   "metadata": {},
   "outputs": [
    {
     "data": {
      "image/png": "[encoded data removed]",
      "text/plain": [
       "<Figure size 432x288 with 1 Axes>"
      ]
     },
     "metadata": {
      "needs_background": "light"
     },
     "output_type": "display_data"
    }
   ],
   "source": [
    "plt.scatter(x = result['Статус'], y = result['Балл_y'], color = 'y')\n",
    "plt.title('Зависимость баллов на заключительном этапе от статуса на отборочном')\n",
    "plt.grid()\n",
    "plt.show()"
   ]
  },
  {
   "cell_type": "code",
   "execution_count": 21,
   "id": "ba86f225",
   "metadata": {},
   "outputs": [
    {
     "name": "stdout",
     "output_type": "stream",
     "text": [
      "Средний балл на отборочном этапе 61.47, средний балл на заключительном этапе 56.55\n"
     ]
    }
   ],
   "source": [
    "print(f'Средний балл на отборочном этапе {result[\"Балл_x\"].mean():.2f}, средний балл на заключительном этапе {result[\"Балл_y\"].mean():.2f}')"
   ]
  }
 ],
 "metadata": {
  "kernelspec": {
   "display_name": "Python 3 (ipykernel)",
   "language": "python",
   "name": "python3"
  },
  "language_info": {
   "codemirror_mode": {
    "name": "ipython",
    "version": 3
   },
   "file_extension": ".py",
   "mimetype": "text/x-python",
   "name": "python",
   "nbconvert_exporter": "python",
   "pygments_lexer": "ipython3",
   "version": "3.9.12"
  }
 },
 "nbformat": 4,
 "nbformat_minor": 5
}
